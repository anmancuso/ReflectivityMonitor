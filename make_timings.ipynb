{
 "cells": [
  {
   "cell_type": "code",
   "execution_count": 1,
   "id": "45f0d31c-cf38-42c1-b35a-b74f547a7ec5",
   "metadata": {},
   "outputs": [],
   "source": [
    "\n",
    "import strax\n",
    "import straxen\n",
    "# import cutax\n",
    "import numpy as np\n",
    "import pandas as pd\n",
    "import matplotlib.pyplot as plt\n",
    "import matplotlib\n",
    "\n",
    "import datetime\n",
    "\n",
    "from iminuit import Minuit\n",
    "from iminuit.cost import LeastSquares\n",
    "import iminuit\n",
    "from scipy.optimize import curve_fit\n",
    "import scipy.stats as stats\n",
    "\n",
    "from immutabledict import immutabledict\n",
    "from itertools import chain\n"
   ]
  },
  {
   "cell_type": "code",
   "execution_count": 2,
   "id": "277ef2d9-bc15-4062-add0-c158b3ca27b4",
   "metadata": {},
   "outputs": [],
   "source": [
    "\n",
    "st = straxen.contexts.xenonnt_online()\n"
   ]
  },
  {
   "cell_type": "code",
   "execution_count": 3,
   "id": "e4375fd9-708f-4705-a8ad-1107b8162ff9",
   "metadata": {},
   "outputs": [],
   "source": [
    "\n",
    "# function that takes a run, cut the events and the hitlets (in n_pmt\n",
    "# and area rispectively) and find all the hitlets inside some event. Then\n",
    "# compute the timings of each hitlet inside the events and return them\n",
    "\n",
    "def create_timings(run_id,seconds_range=(0,15000),events_pmt_cut=10,hitlets_area_cut=0,n_events=1000):\n",
    "    \n",
    "    # load events and hitlets\n",
    "    events = st.get_array(run_id,'events_nv',seconds_range=seconds_range,keep_columns=('n_contributing_pmt','time','endtime'),progress_bar=False)\n",
    "    hitlets = st.get_array(run_id,'hitlets_nv',seconds_range=seconds_range,keep_columns=('time','area'),progress_bar=False)\n",
    "    \n",
    "    # cut events and hitlets\n",
    "    events = events[events['n_contributing_pmt']>=events_pmt_cut]\n",
    "    hitlets = hitlets[hitlets['area']>=hitlets_area_cut]\n",
    "    \n",
    "    # rescale the number of events in case and print a warning message\n",
    "    if len(events) < n_events:\n",
    "        print('Warning: the number of events for run '+str(run_id)+' after the cut is less than '+str(n_events))\n",
    "        n_events = len(events)\n",
    "        \n",
    "\n",
    "    # create the mask to find the hitlets inside the events\n",
    "    hitlets = hitlets[hitlets['time']<=events[n_events-1]['endtime']]\n",
    "    global_mask = False\n",
    "    hits_per_event = []\n",
    "    i = 0\n",
    "        \n",
    "    for event in events[:n_events]:\n",
    "\n",
    "        i += 1\n",
    "        print('Adding mask for event '+str(i)+' out of '+str(n_events),end='\\r')\n",
    "        \n",
    "        mask1 = hitlets['time'] >= event['time']\n",
    "        mask2 = hitlets['time'] <= event['endtime']\n",
    "        mask = np.array(mask1 & mask2)\n",
    "        n_of_hits = len(mask[mask==True])\n",
    "        if n_of_hits == 0:\n",
    "            print('\\n',event['endtime']-event['time'])\n",
    "            print(event['n_contributing_pmt'])\n",
    "\n",
    "        global_mask |= mask\n",
    "        hits_per_event += [n_of_hits]\n",
    "        \n",
    "    print('\\nAll masks added.')\n",
    "    \n",
    "        \n",
    "    # mask the hitlets that are not inside the events\n",
    "    hitlets_in_events = hitlets[global_mask]\n",
    "    print('Number of hitlets in events found:',len(hitlets_in_events))\n",
    "    \n",
    "    # split the hitlets and compute the time differences\n",
    "    hitlets_split = np.split(hitlets_in_events,np.cumsum(hits_per_event))[:-1]    \n",
    "    times = np.array([ hitlets_split[i]['time'] - hitlets_split[i][0]['time'] for i in range(len(hitlets_split)) ],dtype=object)\n",
    "    timings = list(chain.from_iterable(times))\n",
    "    \n",
    "    # release memory\n",
    "    events = 0\n",
    "    hitlets = 0\n",
    "    \n",
    "    return timings\n"
   ]
  },
  {
   "cell_type": "code",
   "execution_count": 4,
   "id": "6a760cd8-c02a-4a62-b1f4-8b4e03695d64",
   "metadata": {},
   "outputs": [],
   "source": [
    "\n",
    "# define the runs on which apply the algorithm to find the\n",
    "# hitlet timings\n",
    "\n",
    "starting_date = datetime.date(2022,4,8)\n",
    "ending_date = datetime.date(2022,9,15)\n",
    "day_step = 7\n",
    "\n",
    "dates_of_the_runs = [starting_date]\n",
    "today = starting_date\n",
    "while today < ending_date:\n",
    "    today += datetime.timedelta(days=7)\n",
    "    dates_of_the_runs.append(today)\n",
    "\n",
    "dates_of_the_runs = np.array(dates_of_the_runs[:-1])\n"
   ]
  },
  {
   "cell_type": "code",
   "execution_count": 22,
   "id": "aed94384-5c32-4949-99d7-7ad729bd0c90",
   "metadata": {},
   "outputs": [],
   "source": [
    "\n",
    "# define the runs on which apply the algorithm to find the\n",
    "# hitlet timings\n",
    "\n",
    "starting_date = datetime.date(2022,3,1)\n",
    "ending_date = datetime.date(2022,7,1)\n",
    "day_step = 10\n",
    "\n",
    "dates_of_the_runs = [starting_date]\n",
    "today = starting_date\n",
    "while today < ending_date:\n",
    "    today += datetime.timedelta(days=day_step)\n",
    "    dates_of_the_runs.append(today)\n",
    "\n",
    "dates_of_the_runs = np.array(dates_of_the_runs[:-1])\n"
   ]
  },
  {
   "cell_type": "code",
   "execution_count": 5,
   "id": "e18e24b0-2b85-4620-a346-aa0a9a988626",
   "metadata": {},
   "outputs": [
    {
     "data": {
      "text/plain": [
       "array([datetime.date(2022, 4, 8), datetime.date(2022, 4, 15),\n",
       "       datetime.date(2022, 4, 22), datetime.date(2022, 4, 29),\n",
       "       datetime.date(2022, 5, 6), datetime.date(2022, 5, 13),\n",
       "       datetime.date(2022, 5, 20), datetime.date(2022, 5, 27),\n",
       "       datetime.date(2022, 6, 3), datetime.date(2022, 6, 10),\n",
       "       datetime.date(2022, 6, 17), datetime.date(2022, 6, 24),\n",
       "       datetime.date(2022, 7, 1), datetime.date(2022, 7, 8),\n",
       "       datetime.date(2022, 7, 15), datetime.date(2022, 7, 22),\n",
       "       datetime.date(2022, 7, 29), datetime.date(2022, 8, 5),\n",
       "       datetime.date(2022, 8, 12), datetime.date(2022, 8, 19),\n",
       "       datetime.date(2022, 8, 26), datetime.date(2022, 9, 2),\n",
       "       datetime.date(2022, 9, 9)], dtype=object)"
      ]
     },
     "execution_count": 5,
     "metadata": {},
     "output_type": "execute_result"
    }
   ],
   "source": [
    "dates_of_the_runs"
   ]
  },
  {
   "cell_type": "code",
   "execution_count": 6,
   "id": "83a7c530-281c-4f2c-9e53-3cf5cc29c2da",
   "metadata": {},
   "outputs": [
    {
     "data": {
      "application/vnd.jupyter.widget-view+json": {
       "model_id": "2af8253bcf9841139b546f55810b4cd1",
       "version_major": 2,
       "version_minor": 0
      },
      "text/plain": [
       "Checking data availability:   0%|          | 0/3 [00:00<?, ?it/s]"
      ]
     },
     "metadata": {},
     "output_type": "display_data"
    }
   ],
   "source": [
    "\n",
    "# get all the runs available\n",
    "df = st.select_runs(run_mode=('background_linked','nVeto_self_trigger'),available='events_nv',exclude_tags=('abandon','messy'))\n"
   ]
  },
  {
   "cell_type": "code",
   "execution_count": 7,
   "id": "fad86915-7b17-44bf-b4a0-6105a70ebcc2",
   "metadata": {},
   "outputs": [
    {
     "data": {
      "text/html": [
       "<div>\n",
       "<style scoped>\n",
       "    .dataframe tbody tr th:only-of-type {\n",
       "        vertical-align: middle;\n",
       "    }\n",
       "\n",
       "    .dataframe tbody tr th {\n",
       "        vertical-align: top;\n",
       "    }\n",
       "\n",
       "    .dataframe thead th {\n",
       "        text-align: right;\n",
       "    }\n",
       "</style>\n",
       "<table border=\"1\" class=\"dataframe\">\n",
       "  <thead>\n",
       "    <tr style=\"text-align: right;\">\n",
       "      <th></th>\n",
       "      <th>name</th>\n",
       "      <th>number</th>\n",
       "      <th>mode</th>\n",
       "      <th>end</th>\n",
       "      <th>source</th>\n",
       "      <th>start</th>\n",
       "      <th>tags</th>\n",
       "      <th>livetime</th>\n",
       "      <th>peak_basics_available</th>\n",
       "      <th>events_nv_available</th>\n",
       "      <th>raw_records_available</th>\n",
       "    </tr>\n",
       "  </thead>\n",
       "  <tbody>\n",
       "    <tr>\n",
       "      <th>2358</th>\n",
       "      <td>048215</td>\n",
       "      <td>48215</td>\n",
       "      <td>background_linked</td>\n",
       "      <td>2022-10-18 06:05:19.525</td>\n",
       "      <td>none</td>\n",
       "      <td>2022-10-18 04:48:36.058</td>\n",
       "      <td>_sr1_preliminary,phase1</td>\n",
       "      <td>0 days 01:16:43.467000</td>\n",
       "      <td>True</td>\n",
       "      <td>True</td>\n",
       "      <td>False</td>\n",
       "    </tr>\n",
       "    <tr>\n",
       "      <th>2359</th>\n",
       "      <td>048214</td>\n",
       "      <td>48214</td>\n",
       "      <td>background_linked</td>\n",
       "      <td>2022-10-18 04:47:41.587</td>\n",
       "      <td>none</td>\n",
       "      <td>2022-10-17 22:47:37.674</td>\n",
       "      <td>warm_spot,_sr1_preliminary,phase1</td>\n",
       "      <td>0 days 06:00:03.913000</td>\n",
       "      <td>True</td>\n",
       "      <td>True</td>\n",
       "      <td>False</td>\n",
       "    </tr>\n",
       "    <tr>\n",
       "      <th>2360</th>\n",
       "      <td>048213</td>\n",
       "      <td>48213</td>\n",
       "      <td>background_linked</td>\n",
       "      <td>2022-10-17 22:45:04.528</td>\n",
       "      <td>none</td>\n",
       "      <td>2022-10-17 16:45:00.782</td>\n",
       "      <td>warm_spot,_sr1_preliminary,phase1</td>\n",
       "      <td>0 days 06:00:03.746000</td>\n",
       "      <td>True</td>\n",
       "      <td>True</td>\n",
       "      <td>False</td>\n",
       "    </tr>\n",
       "    <tr>\n",
       "      <th>2361</th>\n",
       "      <td>048212</td>\n",
       "      <td>48212</td>\n",
       "      <td>background_linked</td>\n",
       "      <td>2022-10-17 16:44:08.926</td>\n",
       "      <td>none</td>\n",
       "      <td>2022-10-17 12:44:05.856</td>\n",
       "      <td>warm_spot,_sr1_preliminary,phase1</td>\n",
       "      <td>0 days 04:00:03.070000</td>\n",
       "      <td>True</td>\n",
       "      <td>True</td>\n",
       "      <td>False</td>\n",
       "    </tr>\n",
       "    <tr>\n",
       "      <th>2362</th>\n",
       "      <td>048211</td>\n",
       "      <td>48211</td>\n",
       "      <td>background_linked</td>\n",
       "      <td>2022-10-17 12:43:12.604</td>\n",
       "      <td>none</td>\n",
       "      <td>2022-10-17 11:10:09.108</td>\n",
       "      <td>_sr1_preliminary,phase1</td>\n",
       "      <td>0 days 01:33:03.496000</td>\n",
       "      <td>True</td>\n",
       "      <td>True</td>\n",
       "      <td>False</td>\n",
       "    </tr>\n",
       "    <tr>\n",
       "      <th>...</th>\n",
       "      <td>...</td>\n",
       "      <td>...</td>\n",
       "      <td>...</td>\n",
       "      <td>...</td>\n",
       "      <td>...</td>\n",
       "      <td>...</td>\n",
       "      <td>...</td>\n",
       "      <td>...</td>\n",
       "      <td>...</td>\n",
       "      <td>...</td>\n",
       "      <td>...</td>\n",
       "    </tr>\n",
       "    <tr>\n",
       "      <th>10819</th>\n",
       "      <td>039754</td>\n",
       "      <td>39754</td>\n",
       "      <td>nVeto_self_trigger</td>\n",
       "      <td>2022-02-27 18:03:01.038</td>\n",
       "      <td></td>\n",
       "      <td>2022-02-27 17:02:56.034</td>\n",
       "      <td></td>\n",
       "      <td>0 days 01:00:05.004000</td>\n",
       "      <td>False</td>\n",
       "      <td>True</td>\n",
       "      <td>False</td>\n",
       "    </tr>\n",
       "    <tr>\n",
       "      <th>10821</th>\n",
       "      <td>039752</td>\n",
       "      <td>39752</td>\n",
       "      <td>nVeto_self_trigger</td>\n",
       "      <td>2022-02-27 17:02:33.080</td>\n",
       "      <td></td>\n",
       "      <td>2022-02-27 16:02:30.267</td>\n",
       "      <td></td>\n",
       "      <td>0 days 01:00:02.813000</td>\n",
       "      <td>False</td>\n",
       "      <td>True</td>\n",
       "      <td>False</td>\n",
       "    </tr>\n",
       "    <tr>\n",
       "      <th>10824</th>\n",
       "      <td>039749</td>\n",
       "      <td>39749</td>\n",
       "      <td>nVeto_self_trigger</td>\n",
       "      <td>2022-02-27 16:02:07.062</td>\n",
       "      <td></td>\n",
       "      <td>2022-02-27 15:02:05.136</td>\n",
       "      <td></td>\n",
       "      <td>0 days 01:00:01.926000</td>\n",
       "      <td>False</td>\n",
       "      <td>True</td>\n",
       "      <td>False</td>\n",
       "    </tr>\n",
       "    <tr>\n",
       "      <th>10827</th>\n",
       "      <td>039746</td>\n",
       "      <td>39746</td>\n",
       "      <td>nVeto_self_trigger</td>\n",
       "      <td>2022-02-27 15:01:42.321</td>\n",
       "      <td></td>\n",
       "      <td>2022-02-27 14:01:41.216</td>\n",
       "      <td></td>\n",
       "      <td>0 days 01:00:01.105000</td>\n",
       "      <td>False</td>\n",
       "      <td>True</td>\n",
       "      <td>False</td>\n",
       "    </tr>\n",
       "    <tr>\n",
       "      <th>10830</th>\n",
       "      <td>039743</td>\n",
       "      <td>39743</td>\n",
       "      <td>nVeto_self_trigger</td>\n",
       "      <td>2022-02-27 14:01:18.101</td>\n",
       "      <td></td>\n",
       "      <td>2022-02-27 13:01:14.956</td>\n",
       "      <td></td>\n",
       "      <td>0 days 01:00:03.145000</td>\n",
       "      <td>False</td>\n",
       "      <td>True</td>\n",
       "      <td>False</td>\n",
       "    </tr>\n",
       "  </tbody>\n",
       "</table>\n",
       "<p>4474 rows × 11 columns</p>\n",
       "</div>"
      ],
      "text/plain": [
       "         name number                mode                     end source  \\\n",
       "2358   048215  48215   background_linked 2022-10-18 06:05:19.525   none   \n",
       "2359   048214  48214   background_linked 2022-10-18 04:47:41.587   none   \n",
       "2360   048213  48213   background_linked 2022-10-17 22:45:04.528   none   \n",
       "2361   048212  48212   background_linked 2022-10-17 16:44:08.926   none   \n",
       "2362   048211  48211   background_linked 2022-10-17 12:43:12.604   none   \n",
       "...       ...    ...                 ...                     ...    ...   \n",
       "10819  039754  39754  nVeto_self_trigger 2022-02-27 18:03:01.038          \n",
       "10821  039752  39752  nVeto_self_trigger 2022-02-27 17:02:33.080          \n",
       "10824  039749  39749  nVeto_self_trigger 2022-02-27 16:02:07.062          \n",
       "10827  039746  39746  nVeto_self_trigger 2022-02-27 15:01:42.321          \n",
       "10830  039743  39743  nVeto_self_trigger 2022-02-27 14:01:18.101          \n",
       "\n",
       "                        start                               tags  \\\n",
       "2358  2022-10-18 04:48:36.058            _sr1_preliminary,phase1   \n",
       "2359  2022-10-17 22:47:37.674  warm_spot,_sr1_preliminary,phase1   \n",
       "2360  2022-10-17 16:45:00.782  warm_spot,_sr1_preliminary,phase1   \n",
       "2361  2022-10-17 12:44:05.856  warm_spot,_sr1_preliminary,phase1   \n",
       "2362  2022-10-17 11:10:09.108            _sr1_preliminary,phase1   \n",
       "...                       ...                                ...   \n",
       "10819 2022-02-27 17:02:56.034                                      \n",
       "10821 2022-02-27 16:02:30.267                                      \n",
       "10824 2022-02-27 15:02:05.136                                      \n",
       "10827 2022-02-27 14:01:41.216                                      \n",
       "10830 2022-02-27 13:01:14.956                                      \n",
       "\n",
       "                    livetime  peak_basics_available  events_nv_available  \\\n",
       "2358  0 days 01:16:43.467000                   True                 True   \n",
       "2359  0 days 06:00:03.913000                   True                 True   \n",
       "2360  0 days 06:00:03.746000                   True                 True   \n",
       "2361  0 days 04:00:03.070000                   True                 True   \n",
       "2362  0 days 01:33:03.496000                   True                 True   \n",
       "...                      ...                    ...                  ...   \n",
       "10819 0 days 01:00:05.004000                  False                 True   \n",
       "10821 0 days 01:00:02.813000                  False                 True   \n",
       "10824 0 days 01:00:01.926000                  False                 True   \n",
       "10827 0 days 01:00:01.105000                  False                 True   \n",
       "10830 0 days 01:00:03.145000                  False                 True   \n",
       "\n",
       "       raw_records_available  \n",
       "2358                   False  \n",
       "2359                   False  \n",
       "2360                   False  \n",
       "2361                   False  \n",
       "2362                   False  \n",
       "...                      ...  \n",
       "10819                  False  \n",
       "10821                  False  \n",
       "10824                  False  \n",
       "10827                  False  \n",
       "10830                  False  \n",
       "\n",
       "[4474 rows x 11 columns]"
      ]
     },
     "execution_count": 7,
     "metadata": {},
     "output_type": "execute_result"
    }
   ],
   "source": [
    "df"
   ]
  },
  {
   "cell_type": "code",
   "execution_count": 12,
   "id": "9a81eb10-c40c-4fa1-a8d8-919faa37e053",
   "metadata": {},
   "outputs": [
    {
     "data": {
      "text/html": [
       "<div>\n",
       "<style scoped>\n",
       "    .dataframe tbody tr th:only-of-type {\n",
       "        vertical-align: middle;\n",
       "    }\n",
       "\n",
       "    .dataframe tbody tr th {\n",
       "        vertical-align: top;\n",
       "    }\n",
       "\n",
       "    .dataframe thead th {\n",
       "        text-align: right;\n",
       "    }\n",
       "</style>\n",
       "<table border=\"1\" class=\"dataframe\">\n",
       "  <thead>\n",
       "    <tr style=\"text-align: right;\">\n",
       "      <th></th>\n",
       "      <th>name</th>\n",
       "      <th>number</th>\n",
       "      <th>mode</th>\n",
       "      <th>end</th>\n",
       "      <th>source</th>\n",
       "      <th>start</th>\n",
       "      <th>tags</th>\n",
       "      <th>livetime</th>\n",
       "      <th>peak_basics_available</th>\n",
       "      <th>events_nv_available</th>\n",
       "      <th>raw_records_available</th>\n",
       "    </tr>\n",
       "  </thead>\n",
       "  <tbody>\n",
       "  </tbody>\n",
       "</table>\n",
       "</div>"
      ],
      "text/plain": [
       "Empty DataFrame\n",
       "Columns: [name, number, mode, end, source, start, tags, livetime, peak_basics_available, events_nv_available, raw_records_available]\n",
       "Index: []"
      ]
     },
     "execution_count": 12,
     "metadata": {},
     "output_type": "execute_result"
    }
   ],
   "source": [
    "df.loc[df['start']==dates_of_the_runs[0]]"
   ]
  },
  {
   "cell_type": "code",
   "execution_count": 11,
   "id": "40db66b7-98cc-4045-be5d-be09b3291735",
   "metadata": {},
   "outputs": [
    {
     "ename": "IndexError",
     "evalue": "single positional indexer is out-of-bounds",
     "output_type": "error",
     "traceback": [
      "\u001b[0;31m---------------------------------------------------------------------------\u001b[0m",
      "\u001b[0;31mIndexError\u001b[0m                                Traceback (most recent call last)",
      "Input \u001b[0;32mIn [11]\u001b[0m, in \u001b[0;36m<cell line: 1>\u001b[0;34m()\u001b[0m\n\u001b[0;32m----> 1\u001b[0m \u001b[43mdf\u001b[49m\u001b[38;5;241;43m.\u001b[39;49m\u001b[43mloc\u001b[49m\u001b[43m[\u001b[49m\u001b[43mdf\u001b[49m\u001b[43m[\u001b[49m\u001b[38;5;124;43m'\u001b[39;49m\u001b[38;5;124;43mstart\u001b[39;49m\u001b[38;5;124;43m'\u001b[39;49m\u001b[43m]\u001b[49m\u001b[38;5;241;43m==\u001b[39;49m\u001b[43mdates_of_the_runs\u001b[49m\u001b[43m[\u001b[49m\u001b[38;5;241;43m0\u001b[39;49m\u001b[43m]\u001b[49m\u001b[43m]\u001b[49m\u001b[38;5;241;43m.\u001b[39;49m\u001b[43miloc\u001b[49m\u001b[43m[\u001b[49m\u001b[38;5;241;43m0\u001b[39;49m\u001b[43m]\u001b[49m[\u001b[38;5;124m'\u001b[39m\u001b[38;5;124mname\u001b[39m\u001b[38;5;124m'\u001b[39m]\n",
      "File \u001b[0;32m/opt/XENONnT/anaconda/envs/XENONnT_2022.09.1/lib/python3.8/site-packages/pandas/core/indexing.py:967\u001b[0m, in \u001b[0;36m_LocationIndexer.__getitem__\u001b[0;34m(self, key)\u001b[0m\n\u001b[1;32m    964\u001b[0m axis \u001b[38;5;241m=\u001b[39m \u001b[38;5;28mself\u001b[39m\u001b[38;5;241m.\u001b[39maxis \u001b[38;5;129;01mor\u001b[39;00m \u001b[38;5;241m0\u001b[39m\n\u001b[1;32m    966\u001b[0m maybe_callable \u001b[38;5;241m=\u001b[39m com\u001b[38;5;241m.\u001b[39mapply_if_callable(key, \u001b[38;5;28mself\u001b[39m\u001b[38;5;241m.\u001b[39mobj)\n\u001b[0;32m--> 967\u001b[0m \u001b[38;5;28;01mreturn\u001b[39;00m \u001b[38;5;28;43mself\u001b[39;49m\u001b[38;5;241;43m.\u001b[39;49m\u001b[43m_getitem_axis\u001b[49m\u001b[43m(\u001b[49m\u001b[43mmaybe_callable\u001b[49m\u001b[43m,\u001b[49m\u001b[43m \u001b[49m\u001b[43maxis\u001b[49m\u001b[38;5;241;43m=\u001b[39;49m\u001b[43maxis\u001b[49m\u001b[43m)\u001b[49m\n",
      "File \u001b[0;32m/opt/XENONnT/anaconda/envs/XENONnT_2022.09.1/lib/python3.8/site-packages/pandas/core/indexing.py:1520\u001b[0m, in \u001b[0;36m_iLocIndexer._getitem_axis\u001b[0;34m(self, key, axis)\u001b[0m\n\u001b[1;32m   1517\u001b[0m     \u001b[38;5;28;01mraise\u001b[39;00m \u001b[38;5;167;01mTypeError\u001b[39;00m(\u001b[38;5;124m\"\u001b[39m\u001b[38;5;124mCannot index by location index with a non-integer key\u001b[39m\u001b[38;5;124m\"\u001b[39m)\n\u001b[1;32m   1519\u001b[0m \u001b[38;5;66;03m# validate the location\u001b[39;00m\n\u001b[0;32m-> 1520\u001b[0m \u001b[38;5;28;43mself\u001b[39;49m\u001b[38;5;241;43m.\u001b[39;49m\u001b[43m_validate_integer\u001b[49m\u001b[43m(\u001b[49m\u001b[43mkey\u001b[49m\u001b[43m,\u001b[49m\u001b[43m \u001b[49m\u001b[43maxis\u001b[49m\u001b[43m)\u001b[49m\n\u001b[1;32m   1522\u001b[0m \u001b[38;5;28;01mreturn\u001b[39;00m \u001b[38;5;28mself\u001b[39m\u001b[38;5;241m.\u001b[39mobj\u001b[38;5;241m.\u001b[39m_ixs(key, axis\u001b[38;5;241m=\u001b[39maxis)\n",
      "File \u001b[0;32m/opt/XENONnT/anaconda/envs/XENONnT_2022.09.1/lib/python3.8/site-packages/pandas/core/indexing.py:1452\u001b[0m, in \u001b[0;36m_iLocIndexer._validate_integer\u001b[0;34m(self, key, axis)\u001b[0m\n\u001b[1;32m   1450\u001b[0m len_axis \u001b[38;5;241m=\u001b[39m \u001b[38;5;28mlen\u001b[39m(\u001b[38;5;28mself\u001b[39m\u001b[38;5;241m.\u001b[39mobj\u001b[38;5;241m.\u001b[39m_get_axis(axis))\n\u001b[1;32m   1451\u001b[0m \u001b[38;5;28;01mif\u001b[39;00m key \u001b[38;5;241m>\u001b[39m\u001b[38;5;241m=\u001b[39m len_axis \u001b[38;5;129;01mor\u001b[39;00m key \u001b[38;5;241m<\u001b[39m \u001b[38;5;241m-\u001b[39mlen_axis:\n\u001b[0;32m-> 1452\u001b[0m     \u001b[38;5;28;01mraise\u001b[39;00m \u001b[38;5;167;01mIndexError\u001b[39;00m(\u001b[38;5;124m\"\u001b[39m\u001b[38;5;124msingle positional indexer is out-of-bounds\u001b[39m\u001b[38;5;124m\"\u001b[39m)\n",
      "\u001b[0;31mIndexError\u001b[0m: single positional indexer is out-of-bounds"
     ]
    }
   ],
   "source": [
    "df.loc[df['start']==dates_of_the_runs[0]].iloc[0]['name']"
   ]
  },
  {
   "cell_type": "code",
   "execution_count": 8,
   "id": "0afc54b8-f33e-4e1d-a695-9c48d2d1280f",
   "metadata": {
    "tags": []
   },
   "outputs": [
    {
     "ename": "IndexError",
     "evalue": "single positional indexer is out-of-bounds",
     "output_type": "error",
     "traceback": [
      "\u001b[0;31m---------------------------------------------------------------------------\u001b[0m",
      "\u001b[0;31mIndexError\u001b[0m                                Traceback (most recent call last)",
      "Input \u001b[0;32mIn [8]\u001b[0m, in \u001b[0;36m<cell line: 3>\u001b[0;34m()\u001b[0m\n\u001b[1;32m      2\u001b[0m runs \u001b[38;5;241m=\u001b[39m []\n\u001b[1;32m      3\u001b[0m \u001b[38;5;28;01mfor\u001b[39;00m date \u001b[38;5;129;01min\u001b[39;00m dates_of_the_runs:\n\u001b[0;32m----> 4\u001b[0m     run_id \u001b[38;5;241m=\u001b[39m \u001b[43mdf\u001b[49m\u001b[38;5;241;43m.\u001b[39;49m\u001b[43mloc\u001b[49m\u001b[43m[\u001b[49m\u001b[43mdf\u001b[49m\u001b[43m[\u001b[49m\u001b[38;5;124;43m'\u001b[39;49m\u001b[38;5;124;43mstart\u001b[39;49m\u001b[38;5;124;43m'\u001b[39;49m\u001b[43m]\u001b[49m\u001b[38;5;241;43m==\u001b[39;49m\u001b[43mdate\u001b[49m\u001b[43m]\u001b[49m\u001b[38;5;241;43m.\u001b[39;49m\u001b[43miloc\u001b[49m\u001b[43m[\u001b[49m\u001b[38;5;241;43m0\u001b[39;49m\u001b[43m]\u001b[49m[\u001b[38;5;124m'\u001b[39m\u001b[38;5;124mname\u001b[39m\u001b[38;5;124m'\u001b[39m]\n\u001b[1;32m      5\u001b[0m     runs\u001b[38;5;241m.\u001b[39mappend([run_id,date])\n\u001b[1;32m      7\u001b[0m runs \u001b[38;5;241m=\u001b[39m np\u001b[38;5;241m.\u001b[39marray(runs)\n",
      "File \u001b[0;32m/opt/XENONnT/anaconda/envs/XENONnT_2022.09.1/lib/python3.8/site-packages/pandas/core/indexing.py:967\u001b[0m, in \u001b[0;36m_LocationIndexer.__getitem__\u001b[0;34m(self, key)\u001b[0m\n\u001b[1;32m    964\u001b[0m axis \u001b[38;5;241m=\u001b[39m \u001b[38;5;28mself\u001b[39m\u001b[38;5;241m.\u001b[39maxis \u001b[38;5;129;01mor\u001b[39;00m \u001b[38;5;241m0\u001b[39m\n\u001b[1;32m    966\u001b[0m maybe_callable \u001b[38;5;241m=\u001b[39m com\u001b[38;5;241m.\u001b[39mapply_if_callable(key, \u001b[38;5;28mself\u001b[39m\u001b[38;5;241m.\u001b[39mobj)\n\u001b[0;32m--> 967\u001b[0m \u001b[38;5;28;01mreturn\u001b[39;00m \u001b[38;5;28;43mself\u001b[39;49m\u001b[38;5;241;43m.\u001b[39;49m\u001b[43m_getitem_axis\u001b[49m\u001b[43m(\u001b[49m\u001b[43mmaybe_callable\u001b[49m\u001b[43m,\u001b[49m\u001b[43m \u001b[49m\u001b[43maxis\u001b[49m\u001b[38;5;241;43m=\u001b[39;49m\u001b[43maxis\u001b[49m\u001b[43m)\u001b[49m\n",
      "File \u001b[0;32m/opt/XENONnT/anaconda/envs/XENONnT_2022.09.1/lib/python3.8/site-packages/pandas/core/indexing.py:1520\u001b[0m, in \u001b[0;36m_iLocIndexer._getitem_axis\u001b[0;34m(self, key, axis)\u001b[0m\n\u001b[1;32m   1517\u001b[0m     \u001b[38;5;28;01mraise\u001b[39;00m \u001b[38;5;167;01mTypeError\u001b[39;00m(\u001b[38;5;124m\"\u001b[39m\u001b[38;5;124mCannot index by location index with a non-integer key\u001b[39m\u001b[38;5;124m\"\u001b[39m)\n\u001b[1;32m   1519\u001b[0m \u001b[38;5;66;03m# validate the location\u001b[39;00m\n\u001b[0;32m-> 1520\u001b[0m \u001b[38;5;28;43mself\u001b[39;49m\u001b[38;5;241;43m.\u001b[39;49m\u001b[43m_validate_integer\u001b[49m\u001b[43m(\u001b[49m\u001b[43mkey\u001b[49m\u001b[43m,\u001b[49m\u001b[43m \u001b[49m\u001b[43maxis\u001b[49m\u001b[43m)\u001b[49m\n\u001b[1;32m   1522\u001b[0m \u001b[38;5;28;01mreturn\u001b[39;00m \u001b[38;5;28mself\u001b[39m\u001b[38;5;241m.\u001b[39mobj\u001b[38;5;241m.\u001b[39m_ixs(key, axis\u001b[38;5;241m=\u001b[39maxis)\n",
      "File \u001b[0;32m/opt/XENONnT/anaconda/envs/XENONnT_2022.09.1/lib/python3.8/site-packages/pandas/core/indexing.py:1452\u001b[0m, in \u001b[0;36m_iLocIndexer._validate_integer\u001b[0;34m(self, key, axis)\u001b[0m\n\u001b[1;32m   1450\u001b[0m len_axis \u001b[38;5;241m=\u001b[39m \u001b[38;5;28mlen\u001b[39m(\u001b[38;5;28mself\u001b[39m\u001b[38;5;241m.\u001b[39mobj\u001b[38;5;241m.\u001b[39m_get_axis(axis))\n\u001b[1;32m   1451\u001b[0m \u001b[38;5;28;01mif\u001b[39;00m key \u001b[38;5;241m>\u001b[39m\u001b[38;5;241m=\u001b[39m len_axis \u001b[38;5;129;01mor\u001b[39;00m key \u001b[38;5;241m<\u001b[39m \u001b[38;5;241m-\u001b[39mlen_axis:\n\u001b[0;32m-> 1452\u001b[0m     \u001b[38;5;28;01mraise\u001b[39;00m \u001b[38;5;167;01mIndexError\u001b[39;00m(\u001b[38;5;124m\"\u001b[39m\u001b[38;5;124msingle positional indexer is out-of-bounds\u001b[39m\u001b[38;5;124m\"\u001b[39m)\n",
      "\u001b[0;31mIndexError\u001b[0m: single positional indexer is out-of-bounds"
     ]
    }
   ],
   "source": [
    "\n",
    "# get the runs\n",
    "runs = []\n",
    "for date in dates_of_the_runs:\n",
    "    run_id = df.loc[df['start']==date].iloc[0]['name']\n",
    "    runs.append([run_id,date])\n",
    "\n",
    "runs = np.array(runs)\n"
   ]
  },
  {
   "cell_type": "code",
   "execution_count": 9,
   "id": "8f03740e-797a-432b-924b-cce1aea04be4",
   "metadata": {},
   "outputs": [
    {
     "data": {
      "text/plain": [
       "[]"
      ]
     },
     "execution_count": 9,
     "metadata": {},
     "output_type": "execute_result"
    }
   ],
   "source": [
    "runs"
   ]
  },
  {
   "cell_type": "code",
   "execution_count": 26,
   "id": "1041d9fa-aede-42b9-9d8f-882617954b8f",
   "metadata": {},
   "outputs": [
    {
     "data": {
      "text/plain": [
       "13"
      ]
     },
     "execution_count": 26,
     "metadata": {},
     "output_type": "execute_result"
    }
   ],
   "source": [
    "len(runs)"
   ]
  },
  {
   "cell_type": "code",
   "execution_count": 9,
   "id": "c4280b17-dc59-4900-abea-bf552011974c",
   "metadata": {
    "tags": []
   },
   "outputs": [
    {
     "name": "stdout",
     "output_type": "stream",
     "text": [
      "Run 046270:\n",
      "Warning: the number of events for run 046270 after the cut is less than 3000\n",
      "Adding mask for event 146 out of 146\n",
      "All masks added.\n",
      "Number of hitlets in events found: 306215\n",
      "\n",
      "\n",
      "Run 046481:\n",
      "Warning: the number of events for run 046481 after the cut is less than 3000\n",
      "Adding mask for event 22 out of 22\n",
      "All masks added.\n",
      "Number of hitlets in events found: 33573\n",
      "\n",
      "\n",
      "Run 046696:\n",
      "Warning: the number of events for run 046696 after the cut is less than 3000\n",
      "Adding mask for event 27 out of 27\n",
      "All masks added.\n",
      "Number of hitlets in events found: 57022\n",
      "\n",
      "\n",
      "Run 046868:\n",
      "Warning: the number of events for run 046868 after the cut is less than 3000\n",
      "Adding mask for event 53 out of 53\n",
      "All masks added.\n",
      "Number of hitlets in events found: 113610\n",
      "\n",
      "\n",
      "Run 047038:\n",
      "Warning: the number of events for run 047038 after the cut is less than 3000\n",
      "Adding mask for event 44 out of 44\n",
      "All masks added.\n",
      "Number of hitlets in events found: 79161\n",
      "\n",
      "\n",
      "Run 047262:\n",
      "Warning: the number of events for run 047262 after the cut is less than 3000\n",
      "Adding mask for event 58 out of 58\n",
      "All masks added.\n",
      "Number of hitlets in events found: 100863\n",
      "\n",
      "\n",
      "Run 047347:\n",
      "Warning: the number of events for run 047347 after the cut is less than 3000\n",
      "Adding mask for event 65 out of 65\n",
      "All masks added.\n",
      "Number of hitlets in events found: 119765\n",
      "\n",
      "\n",
      "Run 047453:\n",
      "Warning: the number of events for run 047453 after the cut is less than 3000\n",
      "Adding mask for event 78 out of 78\n",
      "All masks added.\n",
      "Number of hitlets in events found: 146674\n",
      "\n",
      "\n",
      "Run 047548:\n",
      "Warning: the number of events for run 047548 after the cut is less than 3000\n",
      "Adding mask for event 94 out of 94\n",
      "All masks added.\n",
      "Number of hitlets in events found: 184376\n",
      "\n",
      "\n"
     ]
    }
   ],
   "source": [
    "\n",
    "# create the timing dataset for each run and save them\n",
    "# in the folder\n",
    "\n",
    "for run in runs:\n",
    "    \n",
    "    print('Run '+str(run[0])+':')\n",
    "    timings = create_timings(run[0],events_pmt_cut=115,hitlets_area_cut=0,n_events=3000)\n",
    "    print('\\n')\n",
    "    \n",
    "    filename = 'timings_data__0/'+str(run[0])+'_'+str(run[1].year)+'_'+str(run[1].month)+'_'+str(run[1].day)\n",
    "    np.save(filename,timings)\n"
   ]
  },
  {
   "cell_type": "code",
   "execution_count": 3,
   "id": "a9dd86d6-e3f1-43e0-a1ca-9e7a26adafab",
   "metadata": {},
   "outputs": [
    {
     "data": {
      "application/vnd.jupyter.widget-view+json": {
       "model_id": "36f27d4a71f44dd5ab16ef82dd021884",
       "version_major": 2,
       "version_minor": 0
      },
      "text/plain": [
       "Loading events_nv: |          | 0.00 % [00:00<?]"
      ]
     },
     "metadata": {},
     "output_type": "display_data"
    }
   ],
   "source": [
    "\n",
    "run_id = '042708'\n",
    "events = st.get_array(run_id,'events_nv')\n"
   ]
  },
  {
   "cell_type": "code",
   "execution_count": 26,
   "id": "285850d5-6893-4b81-b5d9-78eff3e3649e",
   "metadata": {
    "collapsed": true,
    "jupyter": {
     "outputs_hidden": true
    },
    "tags": []
   },
   "outputs": [
    {
     "data": {
      "application/vnd.jupyter.widget-view+json": {
       "model_id": "f0a7880f6bfc4b88b53c7c6cb037e3a8",
       "version_major": 2,
       "version_minor": 0
      },
      "text/plain": [
       "Loading hitlets_nv: |          | 0.00 % [00:00<?]"
      ]
     },
     "metadata": {},
     "output_type": "display_data"
    },
    {
     "data": {
      "application/vnd.jupyter.widget-view+json": {
       "model_id": "9cc896084afd42afb5d5718ebdd0c55e",
       "version_major": 2,
       "version_minor": 0
      },
      "text/plain": [
       "Loading hitlets_nv: |          | 0.00 % [00:00<?]"
      ]
     },
     "metadata": {},
     "output_type": "display_data"
    },
    {
     "data": {
      "application/vnd.jupyter.widget-view+json": {
       "model_id": "e63d6234d49742869195ec5fbe2075fe",
       "version_major": 2,
       "version_minor": 0
      },
      "text/plain": [
       "Loading hitlets_nv: |          | 0.00 % [00:00<?]"
      ]
     },
     "metadata": {},
     "output_type": "display_data"
    },
    {
     "data": {
      "application/vnd.jupyter.widget-view+json": {
       "model_id": "f8a270cd6f824fe0b0fde1a2a7e738b4",
       "version_major": 2,
       "version_minor": 0
      },
      "text/plain": [
       "Loading hitlets_nv: |          | 0.00 % [00:00<?]"
      ]
     },
     "metadata": {},
     "output_type": "display_data"
    },
    {
     "data": {
      "application/vnd.jupyter.widget-view+json": {
       "model_id": "277ddc40ab894a7eb1657996765ad48a",
       "version_major": 2,
       "version_minor": 0
      },
      "text/plain": [
       "Loading hitlets_nv: |          | 0.00 % [00:00<?]"
      ]
     },
     "metadata": {},
     "output_type": "display_data"
    },
    {
     "data": {
      "application/vnd.jupyter.widget-view+json": {
       "model_id": "a0700104aa414c33b20239606be70225",
       "version_major": 2,
       "version_minor": 0
      },
      "text/plain": [
       "Loading hitlets_nv: |          | 0.00 % [00:00<?]"
      ]
     },
     "metadata": {},
     "output_type": "display_data"
    },
    {
     "data": {
      "application/vnd.jupyter.widget-view+json": {
       "model_id": "9206ba401ec6460c9ad3584563bdce6b",
       "version_major": 2,
       "version_minor": 0
      },
      "text/plain": [
       "Loading hitlets_nv: |          | 0.00 % [00:00<?]"
      ]
     },
     "metadata": {},
     "output_type": "display_data"
    },
    {
     "data": {
      "application/vnd.jupyter.widget-view+json": {
       "model_id": "44f4d3c91d49453ab777b4b468948582",
       "version_major": 2,
       "version_minor": 0
      },
      "text/plain": [
       "Loading hitlets_nv: |          | 0.00 % [00:00<?]"
      ]
     },
     "metadata": {},
     "output_type": "display_data"
    },
    {
     "data": {
      "application/vnd.jupyter.widget-view+json": {
       "model_id": "35489d386aca49d7a7e40a09ced72fcb",
       "version_major": 2,
       "version_minor": 0
      },
      "text/plain": [
       "Loading hitlets_nv: |          | 0.00 % [00:00<?]"
      ]
     },
     "metadata": {},
     "output_type": "display_data"
    },
    {
     "data": {
      "application/vnd.jupyter.widget-view+json": {
       "model_id": "33db1973696d46f9a327557deb001eec",
       "version_major": 2,
       "version_minor": 0
      },
      "text/plain": [
       "Loading hitlets_nv: |          | 0.00 % [00:00<?]"
      ]
     },
     "metadata": {},
     "output_type": "display_data"
    },
    {
     "data": {
      "application/vnd.jupyter.widget-view+json": {
       "model_id": "6b425bceacb940cfa8c677cfd6547d8c",
       "version_major": 2,
       "version_minor": 0
      },
      "text/plain": [
       "Loading hitlets_nv: |          | 0.00 % [00:00<?]"
      ]
     },
     "metadata": {},
     "output_type": "display_data"
    },
    {
     "data": {
      "application/vnd.jupyter.widget-view+json": {
       "model_id": "914f8e390e3b4150982a6ff0c5b1e956",
       "version_major": 2,
       "version_minor": 0
      },
      "text/plain": [
       "Loading hitlets_nv: |          | 0.00 % [00:00<?]"
      ]
     },
     "metadata": {},
     "output_type": "display_data"
    },
    {
     "data": {
      "application/vnd.jupyter.widget-view+json": {
       "model_id": "bb12cff13fac47aca6f14148443f2969",
       "version_major": 2,
       "version_minor": 0
      },
      "text/plain": [
       "Loading hitlets_nv: |          | 0.00 % [00:00<?]"
      ]
     },
     "metadata": {},
     "output_type": "display_data"
    },
    {
     "data": {
      "application/vnd.jupyter.widget-view+json": {
       "model_id": "ca76239978e04cf09eaa009272208c0f",
       "version_major": 2,
       "version_minor": 0
      },
      "text/plain": [
       "Loading hitlets_nv: |          | 0.00 % [00:00<?]"
      ]
     },
     "metadata": {},
     "output_type": "display_data"
    },
    {
     "data": {
      "application/vnd.jupyter.widget-view+json": {
       "model_id": "f0f5b172b9c0469590f2c4e68f63c59c",
       "version_major": 2,
       "version_minor": 0
      },
      "text/plain": [
       "Loading hitlets_nv: |          | 0.00 % [00:00<?]"
      ]
     },
     "metadata": {},
     "output_type": "display_data"
    },
    {
     "data": {
      "application/vnd.jupyter.widget-view+json": {
       "model_id": "8daa6592edfa47b4995c4b41fd8844c9",
       "version_major": 2,
       "version_minor": 0
      },
      "text/plain": [
       "Loading hitlets_nv: |          | 0.00 % [00:00<?]"
      ]
     },
     "metadata": {},
     "output_type": "display_data"
    },
    {
     "data": {
      "application/vnd.jupyter.widget-view+json": {
       "model_id": "91c5b0b2944e4268b0e966f9b6468d3e",
       "version_major": 2,
       "version_minor": 0
      },
      "text/plain": [
       "Loading hitlets_nv: |          | 0.00 % [00:00<?]"
      ]
     },
     "metadata": {},
     "output_type": "display_data"
    },
    {
     "data": {
      "application/vnd.jupyter.widget-view+json": {
       "model_id": "6e1d62afa7504bf58097a0146fe4b5df",
       "version_major": 2,
       "version_minor": 0
      },
      "text/plain": [
       "Loading hitlets_nv: |          | 0.00 % [00:00<?]"
      ]
     },
     "metadata": {},
     "output_type": "display_data"
    },
    {
     "data": {
      "application/vnd.jupyter.widget-view+json": {
       "model_id": "a3a97d829f9c446a9b6cb28f2cd0246f",
       "version_major": 2,
       "version_minor": 0
      },
      "text/plain": [
       "Loading hitlets_nv: |          | 0.00 % [00:00<?]"
      ]
     },
     "metadata": {},
     "output_type": "display_data"
    },
    {
     "data": {
      "application/vnd.jupyter.widget-view+json": {
       "model_id": "247d0416e4aa4d4186a60b86b6ac0062",
       "version_major": 2,
       "version_minor": 0
      },
      "text/plain": [
       "Loading hitlets_nv: |          | 0.00 % [00:00<?]"
      ]
     },
     "metadata": {},
     "output_type": "display_data"
    },
    {
     "data": {
      "application/vnd.jupyter.widget-view+json": {
       "model_id": "9cc8fbdf2bff46b28ead219b2d50bd89",
       "version_major": 2,
       "version_minor": 0
      },
      "text/plain": [
       "Loading hitlets_nv: |          | 0.00 % [00:00<?]"
      ]
     },
     "metadata": {},
     "output_type": "display_data"
    },
    {
     "data": {
      "application/vnd.jupyter.widget-view+json": {
       "model_id": "ce7fb1826ff745deb4d68a1405eec8a5",
       "version_major": 2,
       "version_minor": 0
      },
      "text/plain": [
       "Loading hitlets_nv: |          | 0.00 % [00:00<?]"
      ]
     },
     "metadata": {},
     "output_type": "display_data"
    },
    {
     "data": {
      "application/vnd.jupyter.widget-view+json": {
       "model_id": "6039fb6c97a64c05ad0839f44d52fce7",
       "version_major": 2,
       "version_minor": 0
      },
      "text/plain": [
       "Loading hitlets_nv: |          | 0.00 % [00:00<?]"
      ]
     },
     "metadata": {},
     "output_type": "display_data"
    },
    {
     "data": {
      "application/vnd.jupyter.widget-view+json": {
       "model_id": "cab3bf16167a40a3ae6bbc6422f99009",
       "version_major": 2,
       "version_minor": 0
      },
      "text/plain": [
       "Loading hitlets_nv: |          | 0.00 % [00:00<?]"
      ]
     },
     "metadata": {},
     "output_type": "display_data"
    },
    {
     "data": {
      "application/vnd.jupyter.widget-view+json": {
       "model_id": "ab0b2b5bba3b4768aa3abb856ebf6f7e",
       "version_major": 2,
       "version_minor": 0
      },
      "text/plain": [
       "Loading hitlets_nv: |          | 0.00 % [00:00<?]"
      ]
     },
     "metadata": {},
     "output_type": "display_data"
    },
    {
     "data": {
      "application/vnd.jupyter.widget-view+json": {
       "model_id": "ac970ae916c043c494b4041587efd1c7",
       "version_major": 2,
       "version_minor": 0
      },
      "text/plain": [
       "Loading hitlets_nv: |          | 0.00 % [00:00<?]"
      ]
     },
     "metadata": {},
     "output_type": "display_data"
    },
    {
     "data": {
      "application/vnd.jupyter.widget-view+json": {
       "model_id": "a5d6852b2e0944d880e44869b15d86f2",
       "version_major": 2,
       "version_minor": 0
      },
      "text/plain": [
       "Loading hitlets_nv: |          | 0.00 % [00:00<?]"
      ]
     },
     "metadata": {},
     "output_type": "display_data"
    },
    {
     "data": {
      "application/vnd.jupyter.widget-view+json": {
       "model_id": "3ca2372139524d79b6c4308d169b758b",
       "version_major": 2,
       "version_minor": 0
      },
      "text/plain": [
       "Loading hitlets_nv: |          | 0.00 % [00:00<?]"
      ]
     },
     "metadata": {},
     "output_type": "display_data"
    },
    {
     "data": {
      "application/vnd.jupyter.widget-view+json": {
       "model_id": "27a3449c6003433c9142b342c8168573",
       "version_major": 2,
       "version_minor": 0
      },
      "text/plain": [
       "Loading hitlets_nv: |          | 0.00 % [00:00<?]"
      ]
     },
     "metadata": {},
     "output_type": "display_data"
    },
    {
     "data": {
      "application/vnd.jupyter.widget-view+json": {
       "model_id": "179ff2f693624f83a136872a7c3ad42e",
       "version_major": 2,
       "version_minor": 0
      },
      "text/plain": [
       "Loading hitlets_nv: |          | 0.00 % [00:00<?]"
      ]
     },
     "metadata": {},
     "output_type": "display_data"
    },
    {
     "data": {
      "application/vnd.jupyter.widget-view+json": {
       "model_id": "ef5f97b1c5e14c68a2f95384ffc492d5",
       "version_major": 2,
       "version_minor": 0
      },
      "text/plain": [
       "Loading hitlets_nv: |          | 0.00 % [00:00<?]"
      ]
     },
     "metadata": {},
     "output_type": "display_data"
    },
    {
     "data": {
      "application/vnd.jupyter.widget-view+json": {
       "model_id": "69428ce6ac2b465a8484568460c2f847",
       "version_major": 2,
       "version_minor": 0
      },
      "text/plain": [
       "Loading hitlets_nv: |          | 0.00 % [00:00<?]"
      ]
     },
     "metadata": {},
     "output_type": "display_data"
    },
    {
     "data": {
      "application/vnd.jupyter.widget-view+json": {
       "model_id": "eb7060db84b744b4a0b79e5984ec871d",
       "version_major": 2,
       "version_minor": 0
      },
      "text/plain": [
       "Loading hitlets_nv: |          | 0.00 % [00:00<?]"
      ]
     },
     "metadata": {},
     "output_type": "display_data"
    },
    {
     "name": "stdout",
     "output_type": "stream",
     "text": [
      "33\n"
     ]
    }
   ],
   "source": [
    "hitlets=[]\n",
    "for event in events[:100000]:\n",
    "\n",
    "    if event['n_contributing_pmt'] >= 55:\n",
    "        hits = st.get_array(run_id,'hitlets_nv',time_within=event)\n",
    "        hitlets += [hits['area']]\n",
    "    \n",
    "print(len(hitlets))\n"
   ]
  },
  {
   "cell_type": "code",
   "execution_count": 27,
   "id": "e038b659-c52c-4a6d-8f75-0b99038fdaa6",
   "metadata": {
    "collapsed": true,
    "jupyter": {
     "outputs_hidden": true
    },
    "tags": []
   },
   "outputs": [
    {
     "data": {
      "text/plain": [
       "array([2.8518999 , 1.7054803 , 1.1639489 , 2.2935421 , 1.5826297 ,\n",
       "       1.2635688 , 1.3147575 , 2.1461349 , 2.4222977 , 2.28152   ,\n",
       "       1.0186666 , 1.8443171 , 1.1226007 , 5.6151385 , 1.4380883 ,\n",
       "       3.6266398 , 1.2590002 , 2.01055   , 0.5771184 , 4.1757627 ,\n",
       "       2.0738888 , 2.0025113 , 2.715317  , 1.5480752 , 1.3465836 ,\n",
       "       3.8803117 , 3.210003  , 1.5878999 , 2.4004138 , 1.8132254 ,\n",
       "       3.6815755 , 0.40362492, 0.7162359 , 1.8225064 , 1.5598667 ,\n",
       "       1.2253063 , 0.96171284, 5.7630506 , 2.7075589 , 0.6816628 ,\n",
       "       0.5177318 , 0.18983611, 0.66190064, 4.409007  , 2.3433843 ,\n",
       "       2.5172412 , 1.7519544 , 1.545197  , 3.8398886 , 2.6112702 ,\n",
       "       1.5028814 , 4.517828  , 1.7360501 , 0.7396855 , 2.0013475 ,\n",
       "       3.346424  , 0.8152635 , 1.2827133 , 1.1903994 , 2.4029822 ,\n",
       "       0.8913375 , 3.4019685 , 1.5441753 , 2.1719577 , 2.2884767 ,\n",
       "       1.4141237 , 0.31402847, 3.9841063 , 0.4125802 , 1.3712502 ,\n",
       "       1.8033587 , 1.9095817 , 0.7442399 , 2.3756318 , 1.5946002 ,\n",
       "       0.46275908, 0.85482717, 0.799326  , 0.44361016, 1.5754051 ,\n",
       "       0.51813745, 0.36791292, 1.6864356 , 0.29129013, 1.8920009 ,\n",
       "       0.6752215 , 1.018637  , 0.5624007 , 0.344369  , 2.0644982 ,\n",
       "       2.4595308 , 1.6435124 , 0.46351627, 1.0784482 , 1.4593004 ,\n",
       "       1.730567  , 2.0250156 , 2.0346856 , 0.65313786, 0.52486044,\n",
       "       1.808698  , 1.4267501 , 2.016427  , 0.98115754, 1.0418357 ,\n",
       "       0.42312333, 2.805773  , 1.608046  , 1.6576891 , 2.8167746 ,\n",
       "       1.213332  , 1.7927749 , 1.6435362 , 1.5371919 , 0.41838488,\n",
       "       1.7493938 , 2.7354298 , 2.013155  , 0.45405763, 2.964032  ,\n",
       "       2.3207395 , 0.97924304, 1.3401679 , 1.9157118 , 0.19969304,\n",
       "       2.2814136 , 1.4368869 , 1.9064991 , 1.4999832 , 2.4788127 ,\n",
       "       0.4383912 , 1.6068077 , 2.5347695 , 1.9746726 , 2.056465  ,\n",
       "       1.9049933 , 2.1322327 , 1.5961049 , 1.9486933 , 3.3954964 ,\n",
       "       0.72775227, 0.66781205, 1.0451431 , 1.444846  , 0.8432006 ,\n",
       "       1.7343721 , 2.1471586 , 0.6278835 , 2.0586147 , 1.191569  ,\n",
       "       2.531428  , 1.4492551 , 1.6475863 , 2.2462766 , 1.6742148 ,\n",
       "       1.1212882 , 3.5873842 , 0.38098457, 1.2830316 , 0.5507508 ,\n",
       "       2.0510392 , 3.1341758 , 3.0061212 , 1.2208333 , 1.5300603 ,\n",
       "       1.1547967 , 1.7448997 , 1.8399287 , 2.2162745 , 0.91774   ,\n",
       "       2.2629967 , 2.0636804 , 1.6802548 , 2.956717  , 3.809349  ,\n",
       "       1.2574078 , 2.34696   , 3.1730397 , 3.0291002 , 2.1132503 ,\n",
       "       1.737082  , 1.8411548 , 0.31451857, 1.8713429 , 0.39083368,\n",
       "       0.78662217, 2.9155312 , 1.1003116 , 1.4922293 , 1.2089778 ,\n",
       "       1.2338743 , 2.2583897 , 0.6968995 , 2.717922  , 1.879945  ,\n",
       "       0.4808791 , 0.67972326, 2.230338  , 2.4336398 , 1.0719483 ,\n",
       "       2.120349  , 2.7757707 , 1.9237579 , 1.6728002 , 2.9097896 ,\n",
       "       0.86356145, 1.1639831 , 0.36039308, 2.7240238 , 4.379659  ,\n",
       "       0.5356805 , 1.7158668 , 1.0797477 , 1.9056935 , 2.5911272 ,\n",
       "       0.3795794 , 2.3629396 , 1.1827613 , 2.1785703 , 1.425245  ,\n",
       "       1.340427  , 2.8581996 , 1.7987548 , 1.8014416 , 3.4632652 ,\n",
       "       1.7905698 , 0.15689957, 2.3068502 , 2.6909661 , 2.4599411 ,\n",
       "       1.9209422 , 0.37440005, 1.0330956 , 1.9100357 , 1.8048    ,\n",
       "       0.9817617 , 0.0432    , 0.9002879 , 1.5039802 , 1.6685197 ,\n",
       "       1.4599265 , 2.409429  , 1.6635951 , 2.12627   , 1.0635328 ],\n",
       "      dtype=float32)"
      ]
     },
     "execution_count": 27,
     "metadata": {},
     "output_type": "execute_result"
    }
   ],
   "source": [
    "hitlets[0]"
   ]
  },
  {
   "cell_type": "code",
   "execution_count": 28,
   "id": "49e7b6d7-49c9-4918-a0cf-2073c68cb3e6",
   "metadata": {},
   "outputs": [],
   "source": [
    "hitlets = list(chain.from_iterable(hitlets))\n"
   ]
  },
  {
   "cell_type": "code",
   "execution_count": 25,
   "id": "605d5c43-9b00-483b-bf4f-33e8d3c9b1a4",
   "metadata": {
    "collapsed": true,
    "jupyter": {
     "outputs_hidden": true
    },
    "tags": []
   },
   "outputs": [
    {
     "data": {
      "text/plain": [
       "[1651880850437450544,\n",
       " 9,\n",
       " 2,\n",
       " 2092,\n",
       " 2.8518999,\n",
       " 0.63594997,\n",
       " 12,\n",
       " -0.1898817,\n",
       " 4.75371,\n",
       " 8.287273,\n",
       " 10.267123,\n",
       " 8.4,\n",
       " 10.554575,\n",
       " 12.754243,\n",
       " 7.3254237,\n",
       " 5.8166666,\n",
       " 10.033898,\n",
       " 7.9661016,\n",
       " 12.495833,\n",
       " 5.5041666,\n",
       " 1651880850437450546,\n",
       " 8,\n",
       " 2,\n",
       " 2091,\n",
       " 1.7054803,\n",
       " 0.56033754,\n",
       " 10,\n",
       " -0.30157807,\n",
       " 3.329606,\n",
       " 6.0920153,\n",
       " 9.854579,\n",
       " 8.509978,\n",
       " 7.64288,\n",
       " 9.73243,\n",
       " 7.775497,\n",
       " 6.7268057,\n",
       " 6.2988663,\n",
       " 8.344896,\n",
       " 9.604731,\n",
       " 6.3952694,\n",
       " 1651880850437450550,\n",
       " 23,\n",
       " 2,\n",
       " 2072,\n",
       " 1.1639489,\n",
       " 0.30113778,\n",
       " 8,\n",
       " -0.8297574,\n",
       " 5.254505,\n",
       " 12.699216,\n",
       " 8.074292,\n",
       " 6.611541,\n",
       " 9.650288,\n",
       " 28.012762,\n",
       " 5.274518,\n",
       " 3.3601558,\n",
       " 6.180972,\n",
       " 6.121925,\n",
       " 14.22129,\n",
       " 4.264355,\n",
       " 1651880850437450550,\n",
       " 14,\n",
       " 2,\n",
       " 2090,\n",
       " 2.2935421,\n",
       " 0.38194585,\n",
       " 16,\n",
       " -0.23815471,\n",
       " 7.211152,\n",
       " 13.954653,\n",
       " 12.56421,\n",
       " 9.657265,\n",
       " 17.642834,\n",
       " 22.360535,\n",
       " 7.6719627,\n",
       " 5.724858,\n",
       " 11.099841,\n",
       " 9.652018,\n",
       " 22.316914,\n",
       " 5.683086,\n",
       " 1651880850437450552,\n",
       " 6,\n",
       " 2,\n",
       " 2078,\n",
       " 1.5826297,\n",
       " 0.8589416,\n",
       " 10,\n",
       " -0.8245826,\n",
       " 2.2045317,\n",
       " 3.5720282,\n",
       " 8.874201,\n",
       " 8.059464,\n",
       " 4.355611,\n",
       " 6.1494727,\n",
       " 7.887203,\n",
       " 6.6212287,\n",
       " 3.6622488,\n",
       " 8.337751,\n",
       " 5.601852,\n",
       " 6.398148,\n",
       " 1651880850437450556,\n",
       " 25,\n",
       " 2,\n",
       " 2082,\n",
       " 1.2635688,\n",
       " 0.33307636,\n",
       " 8,\n",
       " -0.77003014,\n",
       " 7.376602,\n",
       " 15.825696,\n",
       " 8.431774,\n",
       " 6.7609987,\n",
       " 13.519873,\n",
       " 40.107265,\n",
       " 5.2266827,\n",
       " 3.5357032,\n",
       " 4.887342,\n",
       " 6.6895695,\n",
       " 18.780424,\n",
       " 4.6531444,\n",
       " 1651880850437450556,\n",
       " 7,\n",
       " 2,\n",
       " 2098,\n",
       " 1.3147575,\n",
       " 0.4807082,\n",
       " 10,\n",
       " -0.56963056,\n",
       " 2.8182154,\n",
       " 5.1631937,\n",
       " 8.824058,\n",
       " 7.753401,\n",
       " 6.2139096,\n",
       " 8.677862,\n",
       " 7.377689,\n",
       " 5.8585634,\n",
       " 6.2138476,\n",
       " 7.7861524,\n",
       " 8.326637,\n",
       " 5.6733623,\n",
       " 1651880850437450560,\n",
       " 22,\n",
       " 2,\n",
       " 2073,\n",
       " 2.1461349,\n",
       " 0.5036316,\n",
       " 8,\n",
       " -0.7067311,\n",
       " 6.8991804,\n",
       " 15.543402,\n",
       " 8.910219,\n",
       " 7.202785,\n",
       " 12.610703,\n",
       " 38.535065,\n",
       " 5.749423,\n",
       " 0.7784814,\n",
       " 5.4942436,\n",
       " 7.1418552,\n",
       " 15.410913,\n",
       " 5.183529,\n",
       " 1651880850437450560,\n",
       " 28,\n",
       " 2,\n",
       " 2075,\n",
       " 2.4222977,\n",
       " 0.47166348,\n",
       " 8,\n",
       " -0.71005946,\n",
       " 8.762787,\n",
       " 18.112541,\n",
       " 9.47156,\n",
       " 7.8162637,\n",
       " 15.194507,\n",
       " 34.98153,\n",
       " 5.777192,\n",
       " 2.4110835,\n",
       " 5.4953938,\n",
       " 7.3967385,\n",
       " 20.735586,\n",
       " 5.097984,\n",
       " 1651880850437450560,\n",
       " 7,\n",
       " 2,\n",
       " 2096,\n",
       " 2.28152,\n",
       " 0.7201185,\n",
       " 8,\n",
       " -0.51223636,\n",
       " 3.1965714,\n",
       " 5.9325185,\n",
       " 8.55973,\n",
       " 7.1247993,\n",
       " 7.193724,\n",
       " 9.049191,\n",
       " 6.6768184,\n",
       " 5.528363,\n",
       " 6.8065743,\n",
       " 7.1934257,\n",
       " 8.674531,\n",
       " 5.325469,\n",
       " 1651880850437450560,\n",
       " 20,\n",
       " 2,\n",
       " 2099,\n",
       " 1.0186666,\n",
       " 0.18071933,\n",
       " 8,\n",
       " -0.49805874,\n",
       " 8.757468,\n",
       " 17.854355,\n",
       " 8.185805,\n",
       " 6.427253,\n",
       " 15.822716,\n",
       " 36.34054,\n",
       " 4.533241,\n",
       " 3.3664572,\n",
       " 10.104251,\n",
       " 5.6265435,\n",
       " 20.539993,\n",
       " 3.6277795,\n",
       " 1651880850437450560,\n",
       " 14,\n",
       " 2,\n",
       " 2102,\n",
       " 1.8443171,\n",
       " 0.4402698,\n",
       " 10,\n",
       " -0.39047977,\n",
       " 6.1179857,\n",
       " 12.396116,\n",
       " 9.55963,\n",
       " 8.265797,\n",
       " 11.743088,\n",
       " 22.577785,\n",
       " 6.52819,\n",
       " 5.3494506,\n",
       " 6.1493998,\n",
       " 7.571346,\n",
       " 18.887585,\n",
       " 5.525371,\n",
       " 1651880850437450560,\n",
       " 23,\n",
       " 2,\n",
       " 2104,\n",
       " 1.1226007,\n",
       " 0.346247,\n",
       " 8,\n",
       " -0.965116,\n",
       " 5.189309,\n",
       " 13.647816,\n",
       " 8.411164,\n",
       " 6.912949,\n",
       " 8.974749,\n",
       " 21.66985,\n",
       " 5.495642,\n",
       " 4.11005,\n",
       " 4.7128334,\n",
       " 6.9230714,\n",
       " 16.451427,\n",
       " 5.061528,\n",
       " 1651880850437450560,\n",
       " 33,\n",
       " 2,\n",
       " 2109,\n",
       " 5.6151385,\n",
       " 1.2669121,\n",
       " 10,\n",
       " -1.0015582,\n",
       " 6.684662,\n",
       " 17.791294,\n",
       " 10.727192,\n",
       " 8.987207,\n",
       " 11.202864,\n",
       " 29.59391,\n",
       " 7.2619653,\n",
       " 5.5115623,\n",
       " 6.423468,\n",
       " 8.575721,\n",
       " 18.70311,\n",
       " 6.3161483,\n",
       " 1651880850437450562,\n",
       " 13,\n",
       " 2,\n",
       " 2085,\n",
       " 1.4380883,\n",
       " 0.3740068,\n",
       " 10,\n",
       " -0.45941675,\n",
       " 5.3823624,\n",
       " 11.218153,\n",
       " 9.443505,\n",
       " 8.219971,\n",
       " 11.70801,\n",
       " 20.349695,\n",
       " 6.72819,\n",
       " 5.4070625,\n",
       " 5.573155,\n",
       " 7.7102537,\n",
       " 16.657207,\n",
       " 5.635371,\n",
       " 1651880850437450562,\n",
       " 12,\n",
       " 2,\n",
       " 2087,\n",
       " 3.6266398,\n",
       " 0.95046836,\n",
       " 10,\n",
       " -0.42161506,\n",
       " 4.5676374,\n",
       " 10.210522,\n",
       " 9.267551,\n",
       " 7.9023747,\n",
       " 9.720463,\n",
       " 18.0136,\n",
       " 6.3685155,\n",
       " 5.162783,\n",
       " 6.238803,\n",
       " 7.5952067,\n",
       " 16.842997,\n",
       " 5.318576,\n",
       " 1651880850437450562,\n",
       " 4,\n",
       " 2,\n",
       " 2091,\n",
       " 1.2590002,\n",
       " 0.40715754,\n",
       " 2,\n",
       " -0.045415364,\n",
       " 3.0921695,\n",
       " 5.713356,\n",
       " 2.5602376,\n",
       " 1.2546244,\n",
       " 7.141694,\n",
       " 8.856677,\n",
       " 0.5682805,\n",
       " -0.37268773,\n",
       " 6.9720893,\n",
       " 1.0279108,\n",
       " nan,\n",
       " nan,\n",
       " 1651880850437450562,\n",
       " 4,\n",
       " 2,\n",
       " 2092,\n",
       " 2.01055,\n",
       " 0.60435,\n",
       " 4,\n",
       " -0.018470779,\n",
       " 3.3604577,\n",
       " 6.021623,\n",
       " 2.2833335,\n",
       " 0.9603774,\n",
       " 7.527028,\n",
       " 9.010812,\n",
       " 0.20047177,\n",
       " -0.51981133,\n",
       " nan,\n",
       " nan,\n",
       " nan,\n",
       " nan,\n",
       " 1651880850437450564,\n",
       " 8,\n",
       " 2,\n",
       " 2068,\n",
       " 0.5771184,\n",
       " 0.19819981,\n",
       " 8,\n",
       " -0.35287017,\n",
       " 3.194006,\n",
       " 6.4345984,\n",
       " 8.4329,\n",
       " 6.9053025,\n",
       " 7.6144896,\n",
       " 10.758764,\n",
       " 6.335392,\n",
       " 5.0810666,\n",
       " 5.2872624,\n",
       " 7.3262978,\n",
       " 10.846622,\n",
       " 5.153378,\n",
       " 1651880850437450564,\n",
       " 8,\n",
       " 2,\n",
       " 2078,\n",
       " 4.1757627,\n",
       " 0.9639716,\n",
       " 4,\n",
       " -0.16211604,\n",
       " 5.0809684,\n",
       " 10.419708,\n",
       " 2.811441,\n",
       " 1.1874065,\n",
       " 10.556489,\n",
       " 16.387878,\n",
       " -0.16528372,\n",
       " -0.7031483,\n",
       " 8.311538,\n",
       " 0.0,\n",
       " nan,\n",
       " nan,\n",
       " 1651880850437450564,\n",
       " 25,\n",
       " 2,\n",
       " 2081,\n",
       " 2.0738888,\n",
       " 0.5055915,\n",
       " 8,\n",
       " -0.670194,\n",
       " 7.4721355,\n",
       " 16.973816,\n",
       " 8.941891,\n",
       " 7.3942323,\n",
       " 13.203386,\n",
       " 39.49847,\n",
       " 5.616448,\n",
       " 4.15328,\n",
       " 5.1353755,\n",
       " 7.089584,\n",
       " 15.837231,\n",
       " 5.1367025,\n",
       " 1651880850437450564,\n",
       " 25,\n",
       " 2,\n",
       " 2088,\n",
       " 2.0025113,\n",
       " 0.55313563,\n",
       " 10,\n",
       " -0.914488,\n",
       " 5.4204235,\n",
       " 13.597157,\n",
       " 10.230213,\n",
       " 8.62705,\n",
       " 11.736251,\n",
       " 28.125969,\n",
       " 7.271861,\n",
       " 4.937016,\n",
       " 5.443571,\n",
       " 8.497364,\n",
       " 14.302354,\n",
       " 6.2579775,\n",
       " 1651880850437450564,\n",
       " 13,\n",
       " 2,\n",
       " 2097,\n",
       " 2.715317,\n",
       " 0.6153367,\n",
       " 10,\n",
       " -0.37448457,\n",
       " 5.633507,\n",
       " 11.322841,\n",
       " 9.530566,\n",
       " 7.9254885,\n",
       " 12.333946,\n",
       " 19.892315,\n",
       " 6.2075195,\n",
       " 5.155052,\n",
       " 7.165334,\n",
       " 7.4804688,\n",
       " 17.496946,\n",
       " 5.2711425,\n",
       " 1651880850437450564,\n",
       " 10,\n",
       " 2,\n",
       " 2105,\n",
       " 1.5480752,\n",
       " 0.4569995,\n",
       " 10,\n",
       " -0.37649518,\n",
       " 4.0092306,\n",
       " 8.767653,\n",
       " 9.874279,\n",
       " 8.450105,\n",
       " 9.836288,\n",
       " 14.304217,\n",
       " 7.436857,\n",
       " 5.9719,\n",
       " 5.7290764,\n",
       " 8.275105,\n",
       " 13.660699,\n",
       " 6.339301,\n",
       " 1651880850437450568,\n",
       " 9,\n",
       " 2,\n",
       " 2079,\n",
       " 1.3465836,\n",
       " 0.33343595,\n",
       " 10,\n",
       " -0.36814037,\n",
       " 5.107456,\n",
       " 8.408526,\n",
       " 9.543421,\n",
       " 8.116784,\n",
       " 10.458065,\n",
       " 13.019383,\n",
       " 7.325968,\n",
       " 5.5631723,\n",
       " 10.132487,\n",
       " 7.867513,\n",
       " 12.610953,\n",
       " 5.389046,\n",
       " 1651880850437450568,\n",
       " 11,\n",
       " 2,\n",
       " 2084,\n",
       " 3.8803117,\n",
       " 0.876992,\n",
       " 14,\n",
       " -0.3316366,\n",
       " 5.051173,\n",
       " 10.010295,\n",
       " 12.659198,\n",
       " 9.742013,\n",
       " 12.8634,\n",
       " 15.366827,\n",
       " 8.523608,\n",
       " 7.0536456,\n",
       " 8.015274,\n",
       " 11.858351,\n",
       " 14.997291,\n",
       " 7.002709,\n",
       " 1651880850437450570,\n",
       " 11,\n",
       " 2,\n",
       " 2091,\n",
       " 3.210003,\n",
       " 0.74348754,\n",
       " 6,\n",
       " -0.264852,\n",
       " 4.9721055,\n",
       " 12.040104,\n",
       " 6.06434,\n",
       " 3.4116108,\n",
       " 13.277849,\n",
       " 22.08034,\n",
       " 0.83466786,\n",
       " -0.3657759,\n",
       " 6.231236,\n",
       " 4.7214594,\n",
       " nan,\n",
       " nan,\n",
       " 1651880850437450570,\n",
       " 4,\n",
       " 2,\n",
       " 2092,\n",
       " 1.5878999,\n",
       " 0.51745,\n",
       " 4,\n",
       " -0.029644217,\n",
       " 3.227649,\n",
       " 5.897949,\n",
       " 2.3983052,\n",
       " 1.0441558,\n",
       " 7.3724365,\n",
       " 8.948975,\n",
       " 0.3051948,\n",
       " -0.47792208,\n",
       " nan,\n",
       " nan,\n",
       " nan,\n",
       " nan,\n",
       " 1651880850437450570,\n",
       " 26,\n",
       " 2,\n",
       " 2098,\n",
       " 2.4004138,\n",
       " 0.53850824,\n",
       " 4,\n",
       " -0.7947058,\n",
       " 6.8106446,\n",
       " 20.808342,\n",
       " 4.703748,\n",
       " 2.7199266,\n",
       " 11.868181,\n",
       " 51.98374,\n",
       " 0.46520078,\n",
       " -0.7008292,\n",
       " 5.92419,\n",
       " 3.0201907,\n",
       " 15.618515,\n",
       " 0.0,\n",
       " 1651880850437450574,\n",
       " 17,\n",
       " 2,\n",
       " 2008,\n",
       " 1.8132254,\n",
       " 0.4810515,\n",
       " 8,\n",
       " -0.68958217,\n",
       " 5.0469685,\n",
       " 10.674885,\n",
       " 8.947301,\n",
       " 7.5381875,\n",
       " 11.081106,\n",
       " 16.517221,\n",
       " 6.1005344,\n",
       " 5.1259046,\n",
       " 5.5272646,\n",
       " 7.340744,\n",
       " 14.852793,\n",
       " 5.3382554,\n",
       " 1651880850437450574,\n",
       " 17,\n",
       " 2,\n",
       " 2096,\n",
       " 3.6815755,\n",
       " 0.73559856,\n",
       " 6,\n",
       " -0.4836127,\n",
       " 6.54761,\n",
       " 16.061722,\n",
       " 4.539704,\n",
       " 2.2294316,\n",
       " 13.502362,\n",
       " 32.33971,\n",
       " 0.1070064,\n",
       " -0.7167531,\n",
       " 7.7516007,\n",
       " 2.0874026,\n",
       " 18.44841,\n",
       " 0.0,\n",
       " 1651880850437450576,\n",
       " 20,\n",
       " 2,\n",
       " 2054,\n",
       " 0.40362492,\n",
       " 0.119562246,\n",
       " 8,\n",
       " -0.81793505,\n",
       " 4.158727,\n",
       " 13.977003,\n",
       " 6.8783097,\n",
       " 5.3834615,\n",
       " 35.028496,\n",
       " 40.700035,\n",
       " 4.162047,\n",
       " -0.28348425,\n",
       " 4.9188724,\n",
       " 5.574349,\n",
       " 10.092402,\n",
       " 3.8307421,\n",
       " 1651880850437450576,\n",
       " 23,\n",
       " 2,\n",
       " 2094,\n",
       " 0.7162359,\n",
       " 0.20301242,\n",
       " 8,\n",
       " -0.6841003,\n",
       " 6.406622,\n",
       " 12.496773,\n",
       " 8.74241,\n",
       " 7.400684,\n",
       " 11.907341,\n",
       " 35.031044,\n",
       " 5.7920227,\n",
       " 5.2331743,\n",
       " 4.588342,\n",
       " 6.9030857,\n",
       " 13.291904,\n",
       " 5.4815545,\n",
       " 1651880850437450576,\n",
       " 24,\n",
       " 2,\n",
       " 2103,\n",
       " 1.8225064,\n",
       " 0.5438565,\n",
       " 8,\n",
       " -0.92561287,\n",
       " 4.7228317,\n",
       " 12.1193495,\n",
       " 8.201158,\n",
       " 6.6783648,\n",
       " 8.972599,\n",
       " 40.80132,\n",
       " 5.328557,\n",
       " 3.7162251,\n",
       " 5.249274,\n",
       " 6.552509,\n",
       " 14.210752,\n",
       " 4.6367745,\n",
       " 1651880850437450578,\n",
       " 24,\n",
       " 2,\n",
       " 2012,\n",
       " 1.5598667,\n",
       " 0.40057445,\n",
       " 8,\n",
       " -0.75061,\n",
       " 6.2889633,\n",
       " 15.524277,\n",
       " 9.100564,\n",
       " 7.838035,\n",
       " 10.698858,\n",
       " 37.8608,\n",
       " 5.7373385,\n",
       " 4.2983327,\n",
       " 5.493272,\n",
       " 7.282565,\n",
       " 15.739607,\n",
       " 5.15594,\n",
       " 1651880850437450578,\n",
       " 13,\n",
       " 2,\n",
       " 2016,\n",
       " 1.2253063,\n",
       " 0.36133125,\n",
       " 8,\n",
       " -0.5785941,\n",
       " 3.9994593,\n",
       " 9.153899,\n",
       " 9.258688,\n",
       " 8.241361,\n",
       " 7.4874825,\n",
       " 16.145027,\n",
       " 7.0211263,\n",
       " 5.589182,\n",
       " 5.4425454,\n",
       " 7.6557617,\n",
       " 15.3671875,\n",
       " 5.80106,\n",
       " 1651880850437450578,\n",
       " 21,\n",
       " 2,\n",
       " 2090,\n",
       " 0.96171284,\n",
       " 0.19159585,\n",
       " 6,\n",
       " -0.43333593,\n",
       " 7.5216413,\n",
       " 22.146418,\n",
       " 5.053063,\n",
       " 2.6340852,\n",
       " 29.401848,\n",
       " 33.887398,\n",
       " 0.12044794,\n",
       " -0.6457131,\n",
       " 6.7539606,\n",
       " 3.3186848,\n",
       " 16.394215,\n",
       " 0.0,\n",
       " 1651880850437450578,\n",
       " 31,\n",
       " 2,\n",
       " 2092,\n",
       " 5.7630506,\n",
       " 0.75839996,\n",
       " 10,\n",
       " -0.6070801,\n",
       " 9.682078,\n",
       " 23.280642,\n",
       " 9.087663,\n",
       " 4.4557385,\n",
       " 23.24245,\n",
       " 34.113487,\n",
       " 0.4549178,\n",
       " -0.614658,\n",
       " 10.507576,\n",
       " 7.242424,\n",
       " 28.4,\n",
       " 0.0,\n",
       " 1651880850437450578,\n",
       " 28,\n",
       " 2,\n",
       " 2114,\n",
       " 2.7075589,\n",
       " 0.512936,\n",
       " 14,\n",
       " -0.6218993,\n",
       " 7.2649183,\n",
       " 19.588577,\n",
       " 12.4386835,\n",
       " 9.1300745,\n",
       " 16.350618,\n",
       " 40.10735,\n",
       " 6.1168923,\n",
       " 3.5965588,\n",
       " 6.5121155,\n",
       " 11.179335,\n",
       " 24.04747,\n",
       " 5.2204337,\n",
       " 1651880850437450580,\n",
       " 12,\n",
       " 2,\n",
       " 2001,\n",
       " 0.6816628,\n",
       " 0.13636523,\n",
       " 14,\n",
       " -0.29335618,\n",
       " 6.8364716,\n",
       " 12.719748,\n",
       " 9.78101,\n",
       " 7.313088,\n",
       " 14.626802,\n",
       " 19.809616,\n",
       " 5.669514,\n",
       " 4.4170313,\n",
       " 10.988131,\n",
       " 6.89055,\n",
       " 19.540283,\n",
       " 4.459717,\n",
       " 1651880850437450580,\n",
       " 10,\n",
       " 2,\n",
       " 2030,\n",
       " 0.5177318,\n",
       " 0.09623518,\n",
       " 6,\n",
       " -0.17876512,\n",
       " 5.5788136,\n",
       " 11.908199,\n",
       " 5.9061947,\n",
       " 3.342008,\n",
       " 15.662576,\n",
       " 19.872343,\n",
       " 1.502046,\n",
       " -0.18097189,\n",
       " 9.225521,\n",
       " 3.6090496,\n",
       " nan,\n",
       " nan,\n",
       " 1651880850437450580,\n",
       " 20,\n",
       " 2,\n",
       " 2068,\n",
       " 0.18983611,\n",
       " 0.0644998,\n",
       " 8,\n",
       " -0.7463978,\n",
       " 3.6532211,\n",
       " 7.285195,\n",
       " 6.7626953,\n",
       " 4.929589,\n",
       " 9.886303,\n",
       " 36.30765,\n",
       " 3.4999216,\n",
       " 2.023585,\n",
       " 5.1385417,\n",
       " 6.0384116,\n",
       " 11.074804,\n",
       " 2.803711,\n",
       " 1651880850437450580,\n",
       " 7,\n",
       " 2,\n",
       " 2070,\n",
       " 0.66190064,\n",
       " 0.23624581,\n",
       " 8,\n",
       " -0.32729992,\n",
       " 3.0714664,\n",
       " 5.8460307,\n",
       " 8.010006,\n",
       " 6.578687,\n",
       " 7.3815436,\n",
       " 9.671881,\n",
       " 5.833052,\n",
       " 4.7152605,\n",
       " 5.638097,\n",
       " 6.631126,\n",
       " 9.325928,\n",
       " 4.6740723,\n",
       " 1651880850437450580,\n",
       " 29,\n",
       " 2,\n",
       " 2078,\n",
       " 4.409007,\n",
       " 0.9328517,\n",
       " 10,\n",
       " -0.79626405,\n",
       " 7.080488,\n",
       " 18.890297,\n",
       " 9.016327,\n",
       " 6.5837164,\n",
       " 14.466633,\n",
       " 28.854088,\n",
       " 5.2225857,\n",
       " -0.25509256,\n",
       " 6.2409744,\n",
       " 7.5097737,\n",
       " 23.405968,\n",
       " 0.0,\n",
       " 1651880850437450582,\n",
       " 25,\n",
       " 2,\n",
       " 2080,\n",
       " 2.3433843,\n",
       " 0.6506853,\n",
       " 10,\n",
       " -0.8260532,\n",
       " 5.2830563,\n",
       " 13.130416,\n",
       " 10.408706,\n",
       " 8.856076,\n",
       " 10.30853,\n",
       " 21.615396,\n",
       " 7.331708,\n",
       " 5.737528,\n",
       " 5.547996,\n",
       " 8.616927,\n",
       " 14.155478,\n",
       " 6.595583,\n",
       " 1651880850437450584,\n",
       " 25,\n",
       " 2,\n",
       " 2033,\n",
       " 2.5172412,\n",
       " 0.60593283,\n",
       " 8,\n",
       " -0.83322966,\n",
       " 6.1761265,\n",
       " 15.463226,\n",
       " 9.015554,\n",
       " 7.470505,\n",
       " 11.744425,\n",
       " 40.520096,\n",
       " 5.8604207,\n",
       " 5.0306535,\n",
       " 5.6670365,\n",
       " 7.2276444,\n",
       " 15.771536,\n",
       " 5.3061976,\n",
       " 1651880850437450584,\n",
       " 25,\n",
       " 2,\n",
       " 2069,\n",
       " 1.7519544,\n",
       " 0.48719338,\n",
       " 8,\n",
       " -0.8442086,\n",
       " 6.722784,\n",
       " 15.680802,\n",
       " 8.646623,\n",
       " 7.1578207,\n",
       " 13.399881,\n",
       " 40.5808,\n",
       " 5.608969,\n",
       " 5.058362,\n",
       " 5.0588007,\n",
       " 6.945892,\n",
       " 17.715681,\n",
       " 5.302605,\n",
       " 1651880850437450584,\n",
       " 6,\n",
       " 2,\n",
       " 2105,\n",
       " 1.545197,\n",
       " 0.5317995,\n",
       " 8,\n",
       " -0.23607768,\n",
       " 3.5559459,\n",
       " 7.7259994,\n",
       " 6.666165,\n",
       " 3.5628448,\n",
       " 6.746474,\n",
       " 12.575334,\n",
       " 5.513375,\n",
       " 0.1876149,\n",
       " 5.265052,\n",
       " 6.734948,\n",
       " nan,\n",
       " nan,\n",
       " 1651880850437450586,\n",
       " 20,\n",
       " 2,\n",
       " 2079,\n",
       " 3.8398886,\n",
       " 0.9001159,\n",
       " 6,\n",
       " -0.5501133,\n",
       " 8.185167,\n",
       " 20.662636,\n",
       " 6.011919,\n",
       " 4.277314,\n",
       " 14.418743,\n",
       " 35.387547,\n",
       " 1.9594922,\n",
       " -0.13414367,\n",
       " 5.746486,\n",
       " 4.0886087,\n",
       " 18.710955,\n",
       " 0.0,\n",
       " 1651880850437450586,\n",
       " 26,\n",
       " 2,\n",
       " 2086,\n",
       " 2.6112702,\n",
       " 0.7091458,\n",
       " 8,\n",
       " -0.9128304,\n",
       " 5.067168,\n",
       " 12.9138775,\n",
       " 8.636581,\n",
       " 7.087607,\n",
       " 9.246269,\n",
       " 25.083982,\n",
       " 5.6576247,\n",
       " 3.9720063,\n",
       " 5.5622945,\n",
       " 6.9411173,\n",
       " 15.028207,\n",
       " 5.135986,\n",
       " ...]"
      ]
     },
     "execution_count": 25,
     "metadata": {},
     "output_type": "execute_result"
    }
   ],
   "source": [
    "hitlets"
   ]
  },
  {
   "cell_type": "code",
   "execution_count": 18,
   "id": "442bed32-4105-4515-a1df-679df2e72337",
   "metadata": {},
   "outputs": [
    {
     "data": {
      "text/plain": [
       "1651880850437450544"
      ]
     },
     "execution_count": 18,
     "metadata": {},
     "output_type": "execute_result"
    }
   ],
   "source": [
    "hitlets[0]"
   ]
  },
  {
   "cell_type": "code",
   "execution_count": 33,
   "id": "44bb65f2-98a1-4290-a0be-5fb1145d4ee5",
   "metadata": {},
   "outputs": [
    {
     "data": {
      "image/png": "[encoded data removed]",
      "text/plain": [
       "<Figure size 640x480 with 1 Axes>"
      ]
     },
     "metadata": {},
     "output_type": "display_data"
    }
   ],
   "source": [
    "\n",
    "plt.hist(hitlets,range=(-1,30),bins=1000)\n",
    "plt.yscale('log')\n",
    "plt.show()"
   ]
  },
  {
   "cell_type": "code",
   "execution_count": null,
   "id": "0c7d96f3-8251-4026-91b7-ee317132942d",
   "metadata": {},
   "outputs": [],
   "source": []
  }
 ],
 "metadata": {
  "kernelspec": {
   "display_name": "Python 3 (ipykernel)",
   "language": "python",
   "name": "python3"
  },
  "language_info": {
   "codemirror_mode": {
    "name": "ipython",
    "version": 3
   },
   "file_extension": ".py",
   "mimetype": "text/x-python",
   "name": "python",
   "nbconvert_exporter": "python",
   "pygments_lexer": "ipython3",
   "version": "3.8.16"
  }
 },
 "nbformat": 4,
 "nbformat_minor": 5
}
